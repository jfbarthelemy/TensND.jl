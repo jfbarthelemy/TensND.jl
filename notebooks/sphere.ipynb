{
 "cells": [
  {
   "cell_type": "markdown",
   "source": [
    "# Resolution of the elastic problem of a sphere in an infinite matrix"
   ],
   "metadata": {}
  },
  {
   "cell_type": "code",
   "execution_count": 1,
   "source": [
    "using TensND, LinearAlgebra, SymPy, Tensors, OMEinsum, Rotations\r\n",
    "sympy.init_printing(use_unicode=true)"
   ],
   "outputs": [],
   "metadata": {}
  },
  {
   "cell_type": "markdown",
   "source": [
    "## Definition of the coordinate system, base vectors..."
   ],
   "metadata": {}
  },
  {
   "cell_type": "code",
   "execution_count": 2,
   "source": [
    "Spherical = CS_spherical()\r\n",
    "θ, ϕ, r = getcoords(Spherical) # Note the order of coordinates not `r, θ, ϕ` but `θ, ϕ, r` so that the frame `(𝐞ᶿ, 𝐞ᵠ, 𝐞ʳ)` coincides with the canonical frame for null angles\r\n",
    "𝐞ᶿ, 𝐞ᵠ, 𝐞ʳ = unitvec(Spherical) # \"\\bfe<TAB>\" to write bold `𝐞` and \"\\^\\theta<TAB><TAB>\" to write superscript `ᶿ`\r\n",
    "𝐱 = getOM(Spherical) # Defines the current position vector in terms of spherical coordinates (ie `𝐱 = r 𝐞ʳ`)\r\n",
    "𝐞₁, 𝐞₂, 𝐞₃ = unitvec(CS_cartesian()) ;"
   ],
   "outputs": [],
   "metadata": {}
  },
  {
   "cell_type": "code",
   "execution_count": 3,
   "source": [
    "𝟏, 𝟙, 𝕀, 𝕁, 𝕂 = init_isotropic() # Defines usual isotropic Tensors\r\n",
    "k, μ = symbols(\"k μ\", positive = true)\r\n",
    "λ = k -2μ/3 ;"
   ],
   "outputs": [],
   "metadata": {}
  },
  {
   "cell_type": "markdown",
   "source": [
    "## General resolution"
   ],
   "metadata": {}
  },
  {
   "cell_type": "markdown",
   "source": [
    "### Hydrostatic loading\r\n",
    "\r\n",
    "\\begin{equation}\r\n",
    "\\mathbf{u}\\underset{||\\mathbf{x}||\\to\\infty}{\\sim}\\mathbf{E}\\cdot\\mathbf{x} \\textrm{ with } \\mathbf{E}=\\frac{1}{3}E_v\\mathbf{1}\r\n",
    "\\end{equation}\r\n",
    "\r\n",
    "The displacement field is naturally searched in a form satisfying the isotropy of the loading ie\r\n",
    "\\begin{equation}\r\n",
    "\\mathbf{u}=u_r(r)\\,\\mathbf{e}_r\r\n",
    "\\end{equation}\r\n"
   ],
   "metadata": {}
  },
  {
   "cell_type": "code",
   "execution_count": 4,
   "source": [
    "u = SymFunction(\"u\", real = true)\r\n",
    "𝐮ˢᵖʰ = u(r) * 𝐞ʳ  # Note that the vector is in bold font (\"\\bfu<TAB>\") and the component in normal font\r\n",
    "𝛆ˢᵖʰ = tenssimp(SYMGRAD(𝐮ˢᵖʰ, Spherical)) # Strain tensor (\"\\bfepsilon<TAB>\")"
   ],
   "outputs": [
    {
     "output_type": "execute_result",
     "data": {
      "text/latex": [
       "$\\left[ \\begin{array}{rrr}\\frac{u{\\left(r \\right)}}{r}&0&0\\\\0&\\frac{u{\\left(r \\right)}}{r}&0\\\\0&0&\\frac{d}{d r} u{\\left(r \\right)}\\end{array}\\right]$\n"
      ],
      "text/plain": [
       "3×3 TensND.TensndRotated{2, 3, Sym, SymmetricTensor{2, 3, Sym, 6}}:\n",
       " u(r)/r       0                    0\n",
       "      0  u(r)/r                    0\n",
       "      0       0  Derivative(u(r), r)"
      ]
     },
     "metadata": {},
     "execution_count": 4
    }
   ],
   "metadata": {}
  },
  {
   "cell_type": "code",
   "execution_count": 5,
   "source": [
    "𝛔ˢᵖʰ = tenssimp(λ * tr(𝛆ˢᵖʰ) * 𝟏 + 2μ * 𝛆ˢᵖʰ) # Stress tensor (\"\\bfsigma<TAB>\")\r\n",
    "𝐓ˢᵖʰ = tenssimp(𝛔ˢᵖʰ ⋅ 𝐞ʳ) ;"
   ],
   "outputs": [],
   "metadata": {}
  },
  {
   "cell_type": "code",
   "execution_count": 6,
   "source": [
    "div𝛔ˢᵖʰ = DIV(𝛔ˢᵖʰ, Spherical) ;"
   ],
   "outputs": [],
   "metadata": {}
  },
  {
   "cell_type": "code",
   "execution_count": 7,
   "source": [
    "eqˢᵖʰ = factor(simplify(div𝛔ˢᵖʰ ⋅ 𝐞ʳ))"
   ],
   "outputs": [
    {
     "output_type": "execute_result",
     "data": {
      "text/latex": [
       "$\\begin{equation*}\\frac{\\left(3 k + 4 μ\\right) \\left(r^{2} \\frac{d^{2}}{d r^{2}} u{\\left(r \\right)} + 2 r \\frac{d}{d r} u{\\left(r \\right)} - 2 u{\\left(r \\right)}\\right)}{3 r^{2}}\\end{equation*}$\n"
      ],
      "text/plain": [
       "            ⎛     2                              ⎞\n",
       "            ⎜ 2  d              d                ⎟\n",
       "(3⋅k + 4⋅μ)⋅⎜r ⋅───(u(r)) + 2⋅r⋅──(u(r)) - 2⋅u(r)⎟\n",
       "            ⎜     2             dr               ⎟\n",
       "            ⎝   dr                               ⎠\n",
       "──────────────────────────────────────────────────\n",
       "                          2                       \n",
       "                       3⋅r                        "
      ]
     },
     "metadata": {},
     "execution_count": 7
    }
   ],
   "metadata": {}
  },
  {
   "cell_type": "code",
   "execution_count": 8,
   "source": [
    "solˢᵖʰ = dsolve(eqˢᵖʰ, u(r)) ;"
   ],
   "outputs": [],
   "metadata": {}
  },
  {
   "cell_type": "code",
   "execution_count": 9,
   "source": [
    "ûˢᵖʰ = solˢᵖʰ.rhs() ; display(ûˢᵖʰ)\r\n",
    "T̂ˢᵖʰ = factor(simplify(subs(𝐓ˢᵖʰ ⋅ 𝐞ʳ, u(r) => ûˢᵖʰ))) ; display(T̂ˢᵖʰ)"
   ],
   "outputs": [
    {
     "output_type": "display_data",
     "data": {
      "text/latex": [
       "$\\begin{equation*}\\frac{C_{1}}{r^{2}} + C_{2} r\\end{equation*}$\n"
      ],
      "text/plain": [
       "C₁       \n",
       "── + C₂⋅r\n",
       " 2       \n",
       "r        "
      ]
     },
     "metadata": {}
    },
    {
     "output_type": "display_data",
     "data": {
      "text/latex": [
       "$\\begin{equation*}\\frac{- 4 C_{1} μ + 3 C_{2} k r^{3}}{r^{3}}\\end{equation*}$\n"
      ],
      "text/plain": [
       "                  3\n",
       "-4⋅C₁⋅μ + 3⋅C₂⋅k⋅r \n",
       "───────────────────\n",
       "          3        \n",
       "         r         "
      ]
     },
     "metadata": {}
    }
   ],
   "metadata": {}
  },
  {
   "cell_type": "markdown",
   "source": [
    "### Deviatoric loading\r\n",
    "\r\n",
    "\\begin{equation}\r\n",
    "\\mathbf{u}\\underset{||\\mathbf{x}||\\to\\infty}{\\sim}\\mathbf{E}\\cdot\\mathbf{x} \\textrm{ with } \\mathbf{E}=E\\,(\\mathbf{e}_1\\otimes\\mathbf{e}_1+\\mathbf{e}_2\\,\\otimes\\mathbf{e}_2-2\\mathbf{e}_3\\,\\otimes\\mathbf{e}_3)=\\mathbb{1}-3\\mathbf{e}_3\\otimes\\mathbf{e}_3\r\n",
    "\\end{equation}\r\n",
    "\r\n",
    "Note that such a macroscopic strain tensor induces a symmetry of revolution of the fields, which means in particular that the displacement field is expect of the form\r\n",
    "\r\n",
    "\\begin{equation}\r\n",
    "\\mathbf{u}=u_\\theta(\\theta,r)\\,\\mathbf{e}_\\theta+u_r(\\theta,r)\\,\\mathbf{e}_r\r\n",
    "\\end{equation}"
   ],
   "metadata": {}
  },
  {
   "cell_type": "code",
   "execution_count": 10,
   "source": [
    "𝐄 = 𝟏 - 3𝐞₃⊗𝐞₃\r\n",
    "# Remote trends in θ of the displacement\r\n",
    "fᶿ = 𝐞ᶿ ⋅ 𝐄 ⋅ 𝐞ʳ\r\n",
    "fʳ = 𝐞ʳ ⋅ 𝐄 ⋅ 𝐞ʳ ;\r\n"
   ],
   "outputs": [],
   "metadata": {}
  },
  {
   "cell_type": "code",
   "execution_count": 11,
   "source": [
    "uᶿ = SymFunction(\"uᶿ\", real = true)\r\n",
    "uʳ = SymFunction(\"uʳ\", real = true)\r\n",
    "𝐮ᵈᵉᵛ = uᶿ(r)* fᶿ * 𝐞ᶿ + uʳ(r)* fʳ * 𝐞ʳ\r\n",
    "𝛆ᵈᵉᵛ = tenssimp(SYMGRAD(𝐮ᵈᵉᵛ, Spherical)) ;"
   ],
   "outputs": [],
   "metadata": {}
  },
  {
   "cell_type": "code",
   "execution_count": 12,
   "source": [
    "𝛔ᵈᵉᵛ = tenssimp(λ * tr(𝛆ᵈᵉᵛ) * 𝟏 + 2μ * 𝛆ᵈᵉᵛ)\r\n",
    "𝐓ᵈᵉᵛ = tenssimp(𝛔ᵈᵉᵛ ⋅ 𝐞ʳ) ;"
   ],
   "outputs": [],
   "metadata": {}
  },
  {
   "cell_type": "code",
   "execution_count": 13,
   "source": [
    "div𝛔ᵈᵉᵛ = DIV(𝛔ᵈᵉᵛ, Spherical) ;"
   ],
   "outputs": [],
   "metadata": {}
  },
  {
   "cell_type": "code",
   "execution_count": 14,
   "source": [
    "eqᶿᵈᵉᵛ = factor(simplify(div𝛔ᵈᵉᵛ ⋅ 𝐞ᶿ / fᶿ)) ;"
   ],
   "outputs": [],
   "metadata": {}
  },
  {
   "cell_type": "code",
   "execution_count": 15,
   "source": [
    "eqʳᵈᵉᵛ = factor(simplify(div𝛔ᵈᵉᵛ ⋅ 𝐞ʳ / fʳ)) ;"
   ],
   "outputs": [],
   "metadata": {}
  },
  {
   "cell_type": "code",
   "execution_count": 16,
   "source": [
    "α, Λ = symbols(\"α Λ\", real = true)\r\n",
    "eqᵈᵉᵛ = simplify.(subs.([eqᶿᵈᵉᵛ,eqʳᵈᵉᵛ], uᶿ(r) => r^α, uʳ(r) => Λ*r^α))"
   ],
   "outputs": [
    {
     "output_type": "execute_result",
     "data": {
      "text/latex": [
       "$\\left[ \\begin{array}{r}\\frac{6 k r^{α} Λ α + 12 k r^{α} Λ - 18 k r^{α} + 2 r^{α} Λ α μ + 16 r^{α} Λ μ + 3 r^{α} α μ \\left(α - 1\\right) + 6 r^{α} α μ - 24 r^{α} μ}{3 r^{2}}\\\\\\frac{3 k r^{α} Λ α \\left(α - 1\\right) + 6 k r^{α} Λ α - 6 k r^{α} Λ - 9 k r^{α} α + 9 k r^{α} + 4 r^{α} Λ α μ \\left(α - 1\\right) + 8 r^{α} Λ α μ - 26 r^{α} Λ μ - 3 r^{α} α μ + 21 r^{α} μ}{3 r^{2}}\\end{array} \\right]$\n"
      ],
      "text/plain": [
       "2-element Vector{Sym}:\n",
       "                                   (6*k*r^α*Λ*α + 12*k*r^α*Λ - 18*k*r^α + 2*r^α*Λ*α*μ + 16*r^α*Λ*μ + 3*r^α*α*μ*(α - 1) + 6*r^α*α*μ - 24*r^α*μ)/(3*r^2)\n",
       " (3*k*r^α*Λ*α*(α - 1) + 6*k*r^α*Λ*α - 6*k*r^α*Λ - 9*k*r^α*α + 9*k*r^α + 4*r^α*Λ*α*μ*(α - 1) + 8*r^α*Λ*α*μ - 26*r^α*Λ*μ - 3*r^α*α*μ + 21*r^α*μ)/(3*r^2)"
      ]
     },
     "metadata": {},
     "execution_count": 16
    }
   ],
   "metadata": {}
  },
  {
   "cell_type": "code",
   "execution_count": 17,
   "source": [
    "αΛ = solve(eqᵈᵉᵛ, [α, Λ])"
   ],
   "outputs": [
    {
     "output_type": "execute_result",
     "data": {
      "text/plain": [
       "4-element Vector{Tuple{Sym, Sym}}:\n",
       " (-4, -3/2)\n",
       " (-2, 3*(k + μ)/(2*μ))\n",
       " (1, 1)\n",
       " (3, 3*(3*k - 2*μ)/(15*k + 11*μ))"
      ]
     },
     "metadata": {},
     "execution_count": 17
    }
   ],
   "metadata": {}
  },
  {
   "cell_type": "code",
   "execution_count": 18,
   "source": [
    "ûᶿᵈᵉᵛ = sum([Sym(\"C$(i+2)\") * r^αΛ[i][1] for i ∈ 1:length(αΛ)]) ; display(ûᶿᵈᵉᵛ)\r\n",
    "ûʳᵈᵉᵛ = sum([Sym(\"C$(i+2)\") * αΛ[i][2] * r^αΛ[i][1] for i ∈ 1:length(αΛ)]) ; display(ûʳᵈᵉᵛ)"
   ],
   "outputs": [
    {
     "output_type": "display_data",
     "data": {
      "text/latex": [
       "$\\begin{equation*}\\frac{C_{3}}{r^{4}} + \\frac{C_{4}}{r^{2}} + C_{5} r + C_{6} r^{3}\\end{equation*}$\n"
      ],
      "text/plain": [
       "C₃   C₄              3\n",
       "── + ── + C₅⋅r + C₆⋅r \n",
       " 4    2               \n",
       "r    r                "
      ]
     },
     "metadata": {}
    },
    {
     "output_type": "display_data",
     "data": {
      "text/latex": [
       "$\\begin{equation*}- \\frac{3 C_{3}}{2 r^{4}} + \\frac{3 C_{4} \\left(k + μ\\right)}{2 r^{2} μ} + C_{5} r + \\frac{3 C_{6} r^{3} \\left(3 k - 2 μ\\right)}{15 k + 11 μ}\\end{equation*}$\n"
      ],
      "text/plain": [
       "                                     3            \n",
       "  3⋅C₃   3⋅C₄⋅(k + μ)          3⋅C₆⋅r ⋅(3⋅k - 2⋅μ)\n",
       "- ──── + ──────────── + C₅⋅r + ───────────────────\n",
       "     4         2                   15⋅k + 11⋅μ    \n",
       "  2⋅r       2⋅r ⋅μ                                "
      ]
     },
     "metadata": {}
    }
   ],
   "metadata": {}
  },
  {
   "cell_type": "code",
   "execution_count": 19,
   "source": [
    "T̂ᶿᵈᵉᵛ = factor(simplify(subs(𝐓ᵈᵉᵛ ⋅ 𝐞ᶿ / fᶿ, uᶿ(r) => ûᶿᵈᵉᵛ, uʳ(r) => ûʳᵈᵉᵛ))) ; display(T̂ᶿᵈᵉᵛ)\r\n",
    "T̂ʳᵈᵉᵛ = factor(simplify(subs(𝐓ᵈᵉᵛ ⋅ 𝐞ʳ / fʳ, uᶿ(r) => ûᶿᵈᵉᵛ, uʳ(r) => ûʳᵈᵉᵛ))) ; display(T̂ʳᵈᵉᵛ)\r\n"
   ],
   "outputs": [
    {
     "output_type": "display_data",
     "data": {
      "text/latex": [
       "$\\begin{equation*}\\frac{- 120 C_{3} k μ - 88 C_{3} μ^{2} + 45 C_{4} k^{2} r^{2} + 33 C_{4} k r^{2} μ + 30 C_{5} k r^{5} μ + 22 C_{5} r^{5} μ^{2} + 48 C_{6} k r^{7} μ + 10 C_{6} r^{7} μ^{2}}{r^{5} \\left(15 k + 11 μ\\right)}\\end{equation*}$\n"
      ],
      "text/plain": [
       "                     2          2  2            2              5            5 \n",
       "-120⋅C₃⋅k⋅μ - 88⋅C₃⋅μ  + 45⋅C₄⋅k ⋅r  + 33⋅C₄⋅k⋅r ⋅μ + 30⋅C₅⋅k⋅r ⋅μ + 22⋅C₅⋅r ⋅\n",
       "──────────────────────────────────────────────────────────────────────────────\n",
       "                                                5                             \n",
       "                                               r ⋅(15⋅k + 11⋅μ)               \n",
       "\n",
       " 2            7            7  2\n",
       "μ  + 48⋅C₆⋅k⋅r ⋅μ + 10⋅C₆⋅r ⋅μ \n",
       "───────────────────────────────\n",
       "                               \n",
       "                               "
      ]
     },
     "metadata": {}
    },
    {
     "output_type": "display_data",
     "data": {
      "text/latex": [
       "$\\begin{equation*}- \\frac{- 180 C_{3} k μ - 132 C_{3} μ^{2} + 135 C_{4} k^{2} r^{2} + 159 C_{4} k r^{2} μ + 44 C_{4} r^{2} μ^{2} - 30 C_{5} k r^{5} μ - 22 C_{5} r^{5} μ^{2} + 9 C_{6} k r^{7} μ - 6 C_{6} r^{7} μ^{2}}{r^{5} \\left(15 k + 11 μ\\right)}\\end{equation*}$\n"
      ],
      "text/plain": [
       " ⎛                      2           2  2             2            2  2        \n",
       "-⎝-180⋅C₃⋅k⋅μ - 132⋅C₃⋅μ  + 135⋅C₄⋅k ⋅r  + 159⋅C₄⋅k⋅r ⋅μ + 44⋅C₄⋅r ⋅μ  - 30⋅C₅\n",
       "──────────────────────────────────────────────────────────────────────────────\n",
       "                                                         5                    \n",
       "                                                        r ⋅(15⋅k + 11⋅μ)      \n",
       "\n",
       "    5            5  2           7           7  2⎞ \n",
       "⋅k⋅r ⋅μ - 22⋅C₅⋅r ⋅μ  + 9⋅C₆⋅k⋅r ⋅μ - 6⋅C₆⋅r ⋅μ ⎠ \n",
       "──────────────────────────────────────────────────\n",
       "                                                  \n",
       "                                                  "
      ]
     },
     "metadata": {}
    }
   ],
   "metadata": {}
  },
  {
   "cell_type": "code",
   "execution_count": null,
   "source": [],
   "outputs": [],
   "metadata": {}
  }
 ],
 "metadata": {
  "orig_nbformat": 4,
  "language_info": {
   "file_extension": ".jl",
   "name": "julia",
   "mimetype": "application/julia",
   "version": "1.6.2"
  },
  "kernelspec": {
   "name": "julia-1.6",
   "display_name": "Julia 1.6.2",
   "language": "julia"
  }
 },
 "nbformat": 4,
 "nbformat_minor": 2
}