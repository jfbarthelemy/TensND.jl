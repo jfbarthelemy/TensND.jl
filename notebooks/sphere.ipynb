{
 "cells": [
  {
   "cell_type": "markdown",
   "source": [
    "# Resolution of the elastic problem of a sphere in an infinite matrix"
   ],
   "metadata": {}
  },
  {
   "cell_type": "code",
   "execution_count": null,
   "source": [
    "using TensND, LinearAlgebra, SymPy, Tensors, OMEinsum, Rotations\r\n",
    "sympy.init_printing(use_unicode=true)"
   ],
   "outputs": [],
   "metadata": {}
  },
  {
   "cell_type": "markdown",
   "source": [
    "## Definition of the coordinate system, base vectors..."
   ],
   "metadata": {}
  },
  {
   "cell_type": "code",
   "execution_count": null,
   "source": [
    "Spherical = coorsys_spherical()\r\n",
    "θ, ϕ, r = getcoords(Spherical) # Note the order of coordinates not `r, θ, ϕ` but `θ, ϕ, r` so that the frame `(𝐞ᶿ, 𝐞ᵠ, 𝐞ʳ)` coincides with the canonical frame for null angles\r\n",
    "𝐞ᶿ, 𝐞ᵠ, 𝐞ʳ = unitvec(Spherical) # \"\\bfe<TAB>\" to write bold `𝐞` and \"\\^\\theta<TAB><TAB>\" to write superscript `ᶿ`\r\n",
    "𝐱 = getOM(Spherical) # Defines the current position vector in terms of spherical coordinates (ie `𝐱 = r 𝐞ʳ`)\r\n",
    "𝐞₁, 𝐞₂, 𝐞₃ = unitvec(coorsys_cartesian()) ;"
   ],
   "outputs": [],
   "metadata": {}
  },
  {
   "cell_type": "code",
   "execution_count": null,
   "source": [
    "𝟏, 𝟙, 𝕀, 𝕁, 𝕂 = init_isotropic() # Defines usual isotropic Tensors\r\n",
    "k, μ = symbols(\"k μ\", positive = true)\r\n",
    "λ = k -2μ/3 ;"
   ],
   "outputs": [],
   "metadata": {}
  },
  {
   "cell_type": "markdown",
   "source": [
    "## General resolution"
   ],
   "metadata": {}
  },
  {
   "cell_type": "markdown",
   "source": [
    "### Hydrostatic loading\r\n",
    "\r\n",
    "\\begin{equation}\r\n",
    "\\mathbf{u}\\underset{||\\mathbf{x}||\\to\\infty}{\\sim}\\mathbf{E}\\cdot\\mathbf{x} \\textrm{ with } \\mathbf{E}=\\frac{1}{3}E_v\\mathbf{1}\r\n",
    "\\end{equation}\r\n",
    "\r\n",
    "The displacement field is naturally searched in a form satisfying the isotropy of the loading ie\r\n",
    "\\begin{equation}\r\n",
    "\\mathbf{u}=u_r(r)\\,\\mathbf{e}_r\r\n",
    "\\end{equation}\r\n"
   ],
   "metadata": {}
  },
  {
   "cell_type": "code",
   "execution_count": null,
   "source": [
    "u = SymFunction(\"u\", real = true)\r\n",
    "𝐮ˢᵖʰ = u(r) * 𝐞ʳ  # Note that the vector is in bold font (\"\\bfu<TAB>\") and the component in normal font\r\n",
    "𝛆ˢᵖʰ = simplify(SYMGRAD(𝐮ˢᵖʰ, Spherical)) # Strain tensor (\"\\bfepsilon<TAB>\")"
   ],
   "outputs": [],
   "metadata": {}
  },
  {
   "cell_type": "code",
   "execution_count": null,
   "source": [
    "𝛔ˢᵖʰ = simplify(λ * tr(𝛆ˢᵖʰ) * 𝟏 + 2μ * 𝛆ˢᵖʰ) # Stress tensor (\"\\bfsigma<TAB>\")\r\n",
    "𝐓ˢᵖʰ = simplify(𝛔ˢᵖʰ ⋅ 𝐞ʳ) ;"
   ],
   "outputs": [],
   "metadata": {}
  },
  {
   "cell_type": "code",
   "execution_count": null,
   "source": [
    "div𝛔ˢᵖʰ = DIV(𝛔ˢᵖʰ, Spherical) ;"
   ],
   "outputs": [],
   "metadata": {}
  },
  {
   "cell_type": "code",
   "execution_count": null,
   "source": [
    "eqˢᵖʰ = factor(simplify(div𝛔ˢᵖʰ ⋅ 𝐞ʳ))"
   ],
   "outputs": [],
   "metadata": {}
  },
  {
   "cell_type": "code",
   "execution_count": null,
   "source": [
    "solˢᵖʰ = dsolve(eqˢᵖʰ, u(r)) ;"
   ],
   "outputs": [],
   "metadata": {}
  },
  {
   "cell_type": "code",
   "execution_count": null,
   "source": [
    "ûˢᵖʰ = solˢᵖʰ.rhs() ; display(ûˢᵖʰ)\r\n",
    "T̂ˢᵖʰ = factor(simplify(subs(𝐓ˢᵖʰ ⋅ 𝐞ʳ, u(r) => ûˢᵖʰ))) ; display(T̂ˢᵖʰ)"
   ],
   "outputs": [],
   "metadata": {}
  },
  {
   "cell_type": "markdown",
   "source": [
    "### Deviatoric loading\r\n",
    "\r\n",
    "\\begin{equation}\r\n",
    "\\mathbf{u}\\underset{||\\mathbf{x}||\\to\\infty}{\\sim}\\mathbf{E}\\cdot\\mathbf{x} \\textrm{ with } \\mathbf{E}=E\\,(\\mathbf{e}_1\\otimes\\mathbf{e}_1+\\mathbf{e}_2\\,\\otimes\\mathbf{e}_2-2\\mathbf{e}_3\\,\\otimes\\mathbf{e}_3)=\\mathbb{1}-3\\mathbf{e}_3\\otimes\\mathbf{e}_3\r\n",
    "\\end{equation}\r\n",
    "\r\n",
    "Note that such a macroscopic strain tensor induces a symmetry of revolution of the fields, which means in particular that the displacement field is expect of the form\r\n",
    "\r\n",
    "\\begin{equation}\r\n",
    "\\mathbf{u}=u_\\theta(\\theta,r)\\,\\mathbf{e}_\\theta+u_r(\\theta,r)\\,\\mathbf{e}_r\r\n",
    "\\end{equation}"
   ],
   "metadata": {}
  },
  {
   "cell_type": "code",
   "execution_count": null,
   "source": [
    "𝐄 = 𝟏 - 3𝐞₃⊗𝐞₃\r\n",
    "# Remote trends in θ of the displacement\r\n",
    "fᶿ = simplify(𝐞ᶿ ⋅ 𝐄 ⋅ 𝐞ʳ)\r\n",
    "fʳ = simplify(𝐞ʳ ⋅ 𝐄 ⋅ 𝐞ʳ) ;\r\n"
   ],
   "outputs": [],
   "metadata": {}
  },
  {
   "cell_type": "code",
   "execution_count": null,
   "source": [
    "uᶿ = SymFunction(\"uᶿ\", real = true)\r\n",
    "uʳ = SymFunction(\"uʳ\", real = true)\r\n",
    "𝐮ᵈᵉᵛ = uᶿ(r)* fᶿ * 𝐞ᶿ + uʳ(r)* fʳ * 𝐞ʳ\r\n",
    "𝛆ᵈᵉᵛ = simplify(SYMGRAD(𝐮ᵈᵉᵛ, Spherical)) ;"
   ],
   "outputs": [],
   "metadata": {}
  },
  {
   "cell_type": "code",
   "execution_count": null,
   "source": [
    "𝛔ᵈᵉᵛ = simplify(λ * tr(𝛆ᵈᵉᵛ) * 𝟏 + 2μ * 𝛆ᵈᵉᵛ)\r\n",
    "𝐓ᵈᵉᵛ = simplify(𝛔ᵈᵉᵛ ⋅ 𝐞ʳ) ;"
   ],
   "outputs": [],
   "metadata": {}
  },
  {
   "cell_type": "code",
   "execution_count": null,
   "source": [
    "div𝛔ᵈᵉᵛ = DIV(𝛔ᵈᵉᵛ, Spherical) ;"
   ],
   "outputs": [],
   "metadata": {}
  },
  {
   "cell_type": "code",
   "execution_count": null,
   "source": [
    "eqᶿᵈᵉᵛ = factor(simplify(div𝛔ᵈᵉᵛ ⋅ 𝐞ᶿ) / fᶿ) ;"
   ],
   "outputs": [],
   "metadata": {}
  },
  {
   "cell_type": "code",
   "execution_count": null,
   "source": [
    "eqʳᵈᵉᵛ = factor(simplify(div𝛔ᵈᵉᵛ ⋅ 𝐞ʳ) / fʳ) ;"
   ],
   "outputs": [],
   "metadata": {}
  },
  {
   "cell_type": "code",
   "execution_count": null,
   "source": [
    "α, Λ = symbols(\"α Λ\", real = true)\r\n",
    "eqᵈᵉᵛ = simplify.(subs.([eqᶿᵈᵉᵛ,eqʳᵈᵉᵛ], uᶿ(r) => r^α, uʳ(r) => Λ*r^α))"
   ],
   "outputs": [],
   "metadata": {}
  },
  {
   "cell_type": "code",
   "execution_count": null,
   "source": [
    "αΛ = solve(eqᵈᵉᵛ, [α, Λ])"
   ],
   "outputs": [],
   "metadata": {}
  },
  {
   "cell_type": "code",
   "execution_count": null,
   "source": [
    "ûᶿᵈᵉᵛ = sum([Sym(\"C$(i+2)\") * r^αΛ[i][1] for i ∈ 1:length(αΛ)]) ; display(ûᶿᵈᵉᵛ)\r\n",
    "ûʳᵈᵉᵛ = sum([Sym(\"C$(i+2)\") * αΛ[i][2] * r^αΛ[i][1] for i ∈ 1:length(αΛ)]) ; display(ûʳᵈᵉᵛ)"
   ],
   "outputs": [],
   "metadata": {}
  },
  {
   "cell_type": "code",
   "execution_count": null,
   "source": [
    "T̂ᶿᵈᵉᵛ = factor(simplify(subs(𝐓ᵈᵉᵛ ⋅ 𝐞ᶿ / fᶿ, uᶿ(r) => ûᶿᵈᵉᵛ, uʳ(r) => ûʳᵈᵉᵛ))) ; display(T̂ᶿᵈᵉᵛ)\r\n",
    "T̂ʳᵈᵉᵛ = factor(simplify(subs(𝐓ᵈᵉᵛ ⋅ 𝐞ʳ / fʳ, uᶿ(r) => ûᶿᵈᵉᵛ, uʳ(r) => ûʳᵈᵉᵛ))) ; display(T̂ʳᵈᵉᵛ)\r\n"
   ],
   "outputs": [],
   "metadata": {}
  },
  {
   "cell_type": "code",
   "execution_count": null,
   "source": [],
   "outputs": [],
   "metadata": {}
  }
 ],
 "metadata": {
  "orig_nbformat": 4,
  "language_info": {
   "file_extension": ".jl",
   "name": "julia",
   "mimetype": "application/julia",
   "version": "1.6.2"
  },
  "kernelspec": {
   "name": "julia-1.6",
   "display_name": "Julia 1.6.2",
   "language": "julia"
  }
 },
 "nbformat": 4,
 "nbformat_minor": 2
}