{
 "cells": [
  {
   "cell_type": "markdown",
   "source": [
    "# Resolution of the elastic problem of a sphere in an infinite matrix"
   ],
   "metadata": {}
  },
  {
   "cell_type": "code",
   "execution_count": 1,
   "source": [
    "using TensND, LinearAlgebra, SymPy, Tensors, OMEinsum, Rotations"
   ],
   "outputs": [],
   "metadata": {}
  },
  {
   "cell_type": "markdown",
   "source": [
    "## Definition of the coordinate system, base vectors..."
   ],
   "metadata": {}
  },
  {
   "cell_type": "code",
   "execution_count": 5,
   "source": [
    "Spherical = CS_spherical()\r\n",
    "θ, ϕ, r = getcoords(Spherical) # Note the order of coordinates not `r, θ, ϕ` but `θ, ϕ, r` so that the frame `(𝐞ᶿ, 𝐞ᵠ, 𝐞ʳ)` coincides with the canonical frame for null angles\r\n",
    "𝐞ᶿ, 𝐞ᵠ, 𝐞ʳ = unitvec(Spherical) # \"\\bfe<TAB>\" to write bold `𝐞` and \"\\^\\theta<TAB><TAB>\" to write superscript `ᶿ`\r\n",
    "ℬ = getbasis(Spherical) ; # \"\\scrB<TAB>\" to write `ℬ` "
   ],
   "outputs": [],
   "metadata": {}
  },
  {
   "cell_type": "code",
   "execution_count": 10,
   "source": [
    "𝟏, 𝟙, 𝕀, 𝕁, 𝕂 = init_isotropic() # Defines usual isotropic Tensors\r\n",
    "k, μ = symbols(\"k μ\", positive = true)\r\n",
    "ℂ = 3k * 𝕁 + 2μ * 𝕂 # Isotropic stiffness tensor \"\\bbC<TAB>\" to write `ℂ`\r\n",
    "display(ℂ)"
   ],
   "outputs": [
    {
     "output_type": "display_data",
     "data": {
      "text/plain": [
       "TensND.TensndCanonical{4, 3, Sym, SymmetricTensor{4, 3, Sym, 36}}"
      ]
     },
     "metadata": {}
    },
    {
     "output_type": "display_data",
     "data": {
      "text/latex": [
       "$\\left[ \\begin{array}{rrrrrr}k + \\frac{4 μ}{3}&k - \\frac{2 μ}{3}&k - \\frac{2 μ}{3}&0&0&0\\\\k - \\frac{2 μ}{3}&k + \\frac{4 μ}{3}&k - \\frac{2 μ}{3}&0&0&0\\\\k - \\frac{2 μ}{3}&k - \\frac{2 μ}{3}&k + \\frac{4 μ}{3}&0&0&0\\\\0&0&0&2 μ&0&0\\\\0&0&0&0&2 μ&0\\\\0&0&0&0&0&2 μ\\end{array}\\right]$\n"
      ],
      "text/plain": [
       "6×6 Matrix{Sym}:\n",
       " k + 4*μ/3  k - 2*μ/3  k - 2*μ/3    0    0    0\n",
       " k - 2*μ/3  k + 4*μ/3  k - 2*μ/3    0    0    0\n",
       " k - 2*μ/3  k - 2*μ/3  k + 4*μ/3    0    0    0\n",
       "         0          0          0  2⋅μ    0    0\n",
       "         0          0          0    0  2⋅μ    0\n",
       "         0          0          0    0    0  2⋅μ"
      ]
     },
     "metadata": {}
    },
    {
     "output_type": "stream",
     "name": "stdout",
     "text": [
      "# data: "
     ]
    },
    {
     "output_type": "display_data",
     "data": {
      "text/latex": [
       "$\\left[ \\begin{array}{rrr}1&0&0\\\\0&1&0\\\\0&0&1\\end{array}\\right]$\n"
      ],
      "text/plain": [
       "3×3 TensND.LazyIdentity{3, Sym}:\n",
       " 1  0  0\n",
       " 0  1  0\n",
       " 0  0  1"
      ]
     },
     "metadata": {}
    },
    {
     "output_type": "display_data",
     "data": {
      "text/plain": [
       "(:cont, :cont, :cont, :cont)"
      ]
     },
     "metadata": {}
    },
    {
     "output_type": "stream",
     "name": "stdout",
     "text": [
      "# basis: # var: "
     ]
    }
   ],
   "metadata": {}
  },
  {
   "cell_type": "markdown",
   "source": [
    "## General resolution"
   ],
   "metadata": {}
  },
  {
   "cell_type": "markdown",
   "source": [
    "### Hydrostatic loading\r\n",
    "\\begin{equation}\r\n",
    "\\mathbf{u}=𝐄\r\n",
    "\\end{equation}"
   ],
   "metadata": {}
  },
  {
   "cell_type": "code",
   "execution_count": null,
   "source": [
    "u = SymFunction(\"u\", real = true)(r)\r\n",
    "𝐮 = u * 𝐞ʳ"
   ],
   "outputs": [],
   "metadata": {}
  }
 ],
 "metadata": {
  "orig_nbformat": 4,
  "language_info": {
   "file_extension": ".jl",
   "name": "julia",
   "mimetype": "application/julia",
   "version": "1.6.2"
  },
  "kernelspec": {
   "name": "julia-1.6",
   "display_name": "Julia 1.6.2",
   "language": "julia"
  }
 },
 "nbformat": 4,
 "nbformat_minor": 2
}